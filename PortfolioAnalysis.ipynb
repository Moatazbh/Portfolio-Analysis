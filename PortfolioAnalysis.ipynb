{
 "cells": [
  {
   "cell_type": "code",
   "execution_count": 1,
   "id": "c00608e8",
   "metadata": {},
   "outputs": [],
   "source": [
    "import yfinance as yf # For loading financial datasets\n",
    "import pandas as pd # For creating tables and dataframes\n",
    "import math \n",
    "import numpy as np\n",
    "\n",
    "stocks = [\"AAPL\", \"AMZN\", \"MSFT\", \"NFLX\", \"GOOG\", \"TSLA\", \"GME\"] # 7 stocks needed for the first table"
   ]
  },
  {
   "cell_type": "code",
   "execution_count": 2,
   "id": "9f4792b1",
   "metadata": {},
   "outputs": [],
   "source": [
    "weight = 1 / 7 # This will be the portfolio weight for each ticker \n",
    "portfolio_weight = [weight]*7"
   ]
  },
  {
   "cell_type": "code",
   "execution_count": 29,
   "id": "e55f5730",
   "metadata": {},
   "outputs": [],
   "source": [
    "def get_annualized_volatility(stocks):\n",
    "    dataframe = yf.download(f\"{stocks}\")[\"Adj Close\"]\n",
    "    dataframe_rets = dataframe.pct_change() #Calculate returns for every 3-months\n",
    "    dataframe.dropna(inplace=True) #Drop any NaN values (Must drop!)\n",
    "    annualized_volatility = dataframe_rets.std() * math.sqrt(4)\n",
    "    return annualized_volatility"
   ]
  },
  {
   "cell_type": "code",
   "execution_count": 38,
   "id": "23fa0dee",
   "metadata": {},
   "outputs": [
    {
     "name": "stdout",
     "output_type": "stream",
     "text": [
      "[*********************100%***********************]  1 of 1 completed\n"
     ]
    },
    {
     "data": {
      "text/plain": [
       "0.07225227145995164"
      ]
     },
     "execution_count": 38,
     "metadata": {},
     "output_type": "execute_result"
    }
   ],
   "source": [
    "get_annualized_volatility(\"AMZN\")"
   ]
  },
  {
   "cell_type": "code",
   "execution_count": null,
   "id": "4b712e40",
   "metadata": {},
   "outputs": [],
   "source": []
  },
  {
   "cell_type": "code",
   "execution_count": 31,
   "id": "e3600f13",
   "metadata": {},
   "outputs": [],
   "source": [
    "def beta_against_market(ticker, market):\n",
    "    dataframe = yf.download(f\"{ticker} {market}\")[\"Adj Close\"]\n",
    "    dataframe.dropna(inplace=True)\n",
    "    dataframe_resampled = dataframe.resample(\"12M\").sum() # Resample data to use trailing 12-months\n",
    "    covariance = dataframe_resampled.cov().iloc[0, 1] # left of the comma is for row selection [row, column]\n",
    "    beta = covariance / dataframe_resampled[market].var()\n",
    "    return beta"
   ]
  },
  {
   "cell_type": "code",
   "execution_count": 57,
   "id": "ea3cea63",
   "metadata": {},
   "outputs": [],
   "source": [
    "def get_weekly_drawdowns(ticker):\n",
    "    dataframe = yf.download(f\"{ticker}\")\n",
    "    weekly_drawdowns = []\n",
    "    weekly_resample = dataframe.resample(\"5D\").asfreq()[\"Adj Close\"] #resample for weekly data (5 trading days per week)\n",
    "    weekly_resample.dropna(inplace=True)\n",
    "    weekly_resample_array = np.array(weekly_resample)\n",
    "    for i in range(0, len(weekly_resample_array)-52, 52): # Breakdown dataset into 52 weeks to find max and minimum during the 52-week period\n",
    "        high = np.max(weekly_resample_array[i:i+52])\n",
    "        low = np.min(weekly_resample_array[i:i+52])\n",
    "        calc = (low - high) / high\n",
    "        weekly_drawdowns.append(calc)\n",
    "    average_weekly_drawdowns = sum(weekly_drawdowns) / len(weekly_drawdowns)\n",
    "    maximum_weekly_drawdown = max(weekly_drawdowns)\n",
    "    return average_weekly_drawdowns, maximum_weekly_drawdown"
   ]
  },
  {
   "cell_type": "code",
   "execution_count": 58,
   "id": "607b77bf",
   "metadata": {},
   "outputs": [],
   "source": [
    "def get_total_return(ticker):\n",
    "    dataframe = yf.download(f\"{ticker}\")[\"Adj Close\"]\n",
    "    #.iloc[-1] get last row and .iloc[0] get first row of Adj Close \n",
    "    #Formula for Total_Return = New_Stock_price - Current_Stock_Price / Current_Stock_Price\n",
    "    total_return = (dataframe.iloc[-1] - dataframe.iloc[0]) / (dataframe.iloc[0])\n",
    "    return f\"{total_return*100}%\""
   ]
  },
  {
   "cell_type": "code",
   "execution_count": 61,
   "id": "df4b658a",
   "metadata": {},
   "outputs": [],
   "source": [
    "def get_total_annualized_return(stock):\n",
    "    dataframe = yf.download(f\"{stock}\")[\"Adj Close\"]\n",
    "    resampled_data = dataframe.resample(\"10Y\").asfreq()\n",
    "    resampled_data.dropna(inplace=True)\n",
    "    total_annualized_return = (resampled_data.iloc[-1] - resampled_data.iloc[0]) / resampled_data.iloc[0]\n",
    "    return f\"{total_annualized_return * 100}%\""
   ]
  },
  {
   "cell_type": "code",
   "execution_count": 62,
   "id": "8db4ad40",
   "metadata": {},
   "outputs": [
    {
     "name": "stdout",
     "output_type": "stream",
     "text": [
      "[*********************100%***********************]  1 of 1 completed\n",
      "[*********************100%***********************]  1 of 1 completed\n",
      "[*********************100%***********************]  2 of 2 completed\n",
      "[*********************100%***********************]  2 of 2 completed\n",
      "[*********************100%***********************]  2 of 2 completed\n",
      "[*********************100%***********************]  1 of 1 completed\n",
      "[*********************100%***********************]  1 of 1 completed\n",
      "[*********************100%***********************]  1 of 1 completed\n",
      "[*********************100%***********************]  1 of 1 completed\n",
      "[*********************100%***********************]  1 of 1 completed\n",
      "[*********************100%***********************]  1 of 1 completed\n",
      "[*********************100%***********************]  2 of 2 completed\n",
      "[*********************100%***********************]  2 of 2 completed\n",
      "[*********************100%***********************]  2 of 2 completed\n",
      "[*********************100%***********************]  1 of 1 completed\n",
      "[*********************100%***********************]  1 of 1 completed\n",
      "[*********************100%***********************]  1 of 1 completed\n",
      "[*********************100%***********************]  1 of 1 completed\n",
      "[*********************100%***********************]  1 of 1 completed\n",
      "[*********************100%***********************]  1 of 1 completed\n",
      "[*********************100%***********************]  2 of 2 completed\n",
      "[*********************100%***********************]  2 of 2 completed\n",
      "[*********************100%***********************]  2 of 2 completed\n",
      "[*********************100%***********************]  1 of 1 completed\n",
      "[*********************100%***********************]  1 of 1 completed\n",
      "[*********************100%***********************]  1 of 1 completed\n",
      "[*********************100%***********************]  1 of 1 completed\n",
      "[*********************100%***********************]  1 of 1 completed\n",
      "[*********************100%***********************]  1 of 1 completed\n",
      "[*********************100%***********************]  2 of 2 completed\n",
      "[*********************100%***********************]  2 of 2 completed\n",
      "[*********************100%***********************]  2 of 2 completed\n",
      "[*********************100%***********************]  1 of 1 completed\n",
      "[*********************100%***********************]  1 of 1 completed\n",
      "[*********************100%***********************]  1 of 1 completed\n",
      "[*********************100%***********************]  1 of 1 completed\n",
      "[*********************100%***********************]  1 of 1 completed\n",
      "[*********************100%***********************]  1 of 1 completed\n",
      "[*********************100%***********************]  2 of 2 completed\n",
      "[*********************100%***********************]  2 of 2 completed\n",
      "[*********************100%***********************]  2 of 2 completed\n",
      "[*********************100%***********************]  1 of 1 completed\n",
      "[*********************100%***********************]  1 of 1 completed\n",
      "[*********************100%***********************]  1 of 1 completed\n",
      "[*********************100%***********************]  1 of 1 completed\n",
      "[*********************100%***********************]  1 of 1 completed\n",
      "[*********************100%***********************]  1 of 1 completed\n",
      "[*********************100%***********************]  2 of 2 completed\n",
      "[*********************100%***********************]  2 of 2 completed\n",
      "[*********************100%***********************]  2 of 2 completed\n",
      "[*********************100%***********************]  1 of 1 completed\n",
      "[*********************100%***********************]  1 of 1 completed\n",
      "[*********************100%***********************]  1 of 1 completed\n",
      "[*********************100%***********************]  1 of 1 completed\n",
      "[*********************100%***********************]  1 of 1 completed\n",
      "[*********************100%***********************]  1 of 1 completed\n",
      "[*********************100%***********************]  2 of 2 completed\n",
      "[*********************100%***********************]  2 of 2 completed\n",
      "[*********************100%***********************]  2 of 2 completed\n",
      "[*********************100%***********************]  1 of 1 completed\n",
      "[*********************100%***********************]  1 of 1 completed\n",
      "[*********************100%***********************]  1 of 1 completed\n",
      "[*********************100%***********************]  1 of 1 completed\n"
     ]
    }
   ],
   "source": [
    "stocks = [\"AAPL\", \"AMZN\", \"MSFT\", \"NFLX\", \"GOOG\", \"TSLA\", \"GME\"] # 7 stocks needed for the first table\n",
    "\n",
    "\n",
    "#Create table\n",
    "tickers = []\n",
    "annualized_volatility = []\n",
    "beta_spy = []\n",
    "beta_iwm = []\n",
    "beta_dia = []\n",
    "average_weekly_drawdown = []\n",
    "maximum_weekly_drawdown = []\n",
    "total_return = []\n",
    "total_annualized_return = []\n",
    "for stock in stocks: # This will loop through the 7 stocks to get the data needed\n",
    "    get_dataframe = yf.download(f\"{stock}\")\n",
    "    get_dataframe.dropna(inplace=True) #Drop any NaN values (Must drop!)\n",
    "    tickers.append(stock)\n",
    "    annualized_volatility.append(get_annualized_volatility(stock))\n",
    "    beta_spy.append(beta_against_market(stock, \"SPY\"))\n",
    "    beta_iwm.append(beta_against_market(stock, \"IWM\"))\n",
    "    beta_dia.append(beta_against_market(stock, \"DIA\"))\n",
    "    average_weekly_drawdown.append(get_weekly_drawdowns(stock)[0])\n",
    "    maximum_weekly_drawdown.append(get_weekly_drawdowns(stock)[1])\n",
    "    total_return.append(get_total_return(stock))\n",
    "    total_annualized_return.append(get_total_annualized_return(stock))"
   ]
  },
  {
   "cell_type": "code",
   "execution_count": 63,
   "id": "faa0fcb4",
   "metadata": {},
   "outputs": [],
   "source": [
    "create_table = {\"ticker\" : tickers, \"portfolio weight\": portfolio_weight, \n",
    "                \"annualized volatility\" : annualized_volatility, \"beta spy\" : beta_spy,\n",
    "               \"beta iwm\": beta_iwm, \"beta dia\": beta_dia, \"average weekly drawdown\": average_weekly_drawdown,\n",
    "               \"maximum weekly drawdown\": maximum_weekly_drawdown, \"total return\" : total_return, \n",
    "               \"total annualized return\" : total_annualized_return}\n",
    "create_dataframe = pd.DataFrame(create_table)"
   ]
  },
  {
   "cell_type": "code",
   "execution_count": 84,
   "id": "4cbdb482",
   "metadata": {},
   "outputs": [
    {
     "data": {
      "text/html": [
       "<div>\n",
       "<style scoped>\n",
       "    .dataframe tbody tr th:only-of-type {\n",
       "        vertical-align: middle;\n",
       "    }\n",
       "\n",
       "    .dataframe tbody tr th {\n",
       "        vertical-align: top;\n",
       "    }\n",
       "\n",
       "    .dataframe thead th {\n",
       "        text-align: right;\n",
       "    }\n",
       "</style>\n",
       "<table border=\"1\" class=\"dataframe\">\n",
       "  <thead>\n",
       "    <tr style=\"text-align: right;\">\n",
       "      <th></th>\n",
       "      <th>ticker</th>\n",
       "      <th>portfolio weight</th>\n",
       "      <th>annualized volatility</th>\n",
       "      <th>beta spy</th>\n",
       "      <th>beta iwm</th>\n",
       "      <th>beta dia</th>\n",
       "      <th>average weekly drawdown</th>\n",
       "      <th>maximum weekly drawdown</th>\n",
       "      <th>total return</th>\n",
       "      <th>total annualized return</th>\n",
       "    </tr>\n",
       "  </thead>\n",
       "  <tbody>\n",
       "    <tr>\n",
       "      <th>0</th>\n",
       "      <td>AAPL</td>\n",
       "      <td>0.142857</td>\n",
       "      <td>0.056478</td>\n",
       "      <td>0.346325</td>\n",
       "      <td>0.712702</td>\n",
       "      <td>0.433881</td>\n",
       "      <td>-0.463143</td>\n",
       "      <td>-0.222692</td>\n",
       "      <td>150790.1872531127%</td>\n",
       "      <td>110503.25095947844%</td>\n",
       "    </tr>\n",
       "    <tr>\n",
       "      <th>1</th>\n",
       "      <td>AMZN</td>\n",
       "      <td>0.142857</td>\n",
       "      <td>0.072252</td>\n",
       "      <td>0.438472</td>\n",
       "      <td>0.852993</td>\n",
       "      <td>0.496299</td>\n",
       "      <td>-0.485474</td>\n",
       "      <td>-0.252311</td>\n",
       "      <td>94296.27666515727%</td>\n",
       "      <td>1745.1095093625365%</td>\n",
       "    </tr>\n",
       "    <tr>\n",
       "      <th>2</th>\n",
       "      <td>MSFT</td>\n",
       "      <td>0.142857</td>\n",
       "      <td>0.042650</td>\n",
       "      <td>0.633366</td>\n",
       "      <td>1.283657</td>\n",
       "      <td>0.780965</td>\n",
       "      <td>-0.354988</td>\n",
       "      <td>-0.131717</td>\n",
       "      <td>418518.5013779911%</td>\n",
       "      <td>6064.755168210947%</td>\n",
       "    </tr>\n",
       "    <tr>\n",
       "      <th>3</th>\n",
       "      <td>NFLX</td>\n",
       "      <td>0.142857</td>\n",
       "      <td>0.071776</td>\n",
       "      <td>1.413053</td>\n",
       "      <td>2.833438</td>\n",
       "      <td>1.743365</td>\n",
       "      <td>-0.543612</td>\n",
       "      <td>-0.283618</td>\n",
       "      <td>24432.17084178011%</td>\n",
       "      <td>1581.9246861227023%</td>\n",
       "    </tr>\n",
       "    <tr>\n",
       "      <th>4</th>\n",
       "      <td>GOOG</td>\n",
       "      <td>0.142857</td>\n",
       "      <td>0.038881</td>\n",
       "      <td>0.311764</td>\n",
       "      <td>0.616832</td>\n",
       "      <td>0.379562</td>\n",
       "      <td>-0.351752</td>\n",
       "      <td>-0.155658</td>\n",
       "      <td>3567.6719336653528%</td>\n",
       "      <td>446.6324740288087%</td>\n",
       "    </tr>\n",
       "    <tr>\n",
       "      <th>5</th>\n",
       "      <td>TSLA</td>\n",
       "      <td>0.142857</td>\n",
       "      <td>0.072330</td>\n",
       "      <td>0.644040</td>\n",
       "      <td>1.191835</td>\n",
       "      <td>0.757325</td>\n",
       "      <td>-0.514386</td>\n",
       "      <td>-0.288251</td>\n",
       "      <td>10855.20893719201%</td>\n",
       "      <td>13149.53242129483%</td>\n",
       "    </tr>\n",
       "    <tr>\n",
       "      <th>6</th>\n",
       "      <td>GME</td>\n",
       "      <td>0.142857</td>\n",
       "      <td>0.101284</td>\n",
       "      <td>0.063133</td>\n",
       "      <td>0.120999</td>\n",
       "      <td>0.073073</td>\n",
       "      <td>-0.501950</td>\n",
       "      <td>-0.274563</td>\n",
       "      <td>890.1477506899047%</td>\n",
       "      <td>431.3860768298257%</td>\n",
       "    </tr>\n",
       "  </tbody>\n",
       "</table>\n",
       "</div>"
      ],
      "text/plain": [
       "  ticker  portfolio weight  annualized volatility  beta spy  beta iwm  \\\n",
       "0   AAPL          0.142857               0.056478  0.346325  0.712702   \n",
       "1   AMZN          0.142857               0.072252  0.438472  0.852993   \n",
       "2   MSFT          0.142857               0.042650  0.633366  1.283657   \n",
       "3   NFLX          0.142857               0.071776  1.413053  2.833438   \n",
       "4   GOOG          0.142857               0.038881  0.311764  0.616832   \n",
       "5   TSLA          0.142857               0.072330  0.644040  1.191835   \n",
       "6    GME          0.142857               0.101284  0.063133  0.120999   \n",
       "\n",
       "   beta dia  average weekly drawdown  maximum weekly drawdown  \\\n",
       "0  0.433881                -0.463143                -0.222692   \n",
       "1  0.496299                -0.485474                -0.252311   \n",
       "2  0.780965                -0.354988                -0.131717   \n",
       "3  1.743365                -0.543612                -0.283618   \n",
       "4  0.379562                -0.351752                -0.155658   \n",
       "5  0.757325                -0.514386                -0.288251   \n",
       "6  0.073073                -0.501950                -0.274563   \n",
       "\n",
       "          total return total annualized return  \n",
       "0   150790.1872531127%     110503.25095947844%  \n",
       "1   94296.27666515727%     1745.1095093625365%  \n",
       "2   418518.5013779911%      6064.755168210947%  \n",
       "3   24432.17084178011%     1581.9246861227023%  \n",
       "4  3567.6719336653528%      446.6324740288087%  \n",
       "5   10855.20893719201%      13149.53242129483%  \n",
       "6   890.1477506899047%      431.3860768298257%  "
      ]
     },
     "execution_count": 84,
     "metadata": {},
     "output_type": "execute_result"
    }
   ],
   "source": [
    "table_one = create_dataframe\n",
    "table_one"
   ]
  },
  {
   "cell_type": "code",
   "execution_count": 85,
   "id": "9f9e5726",
   "metadata": {},
   "outputs": [
    {
     "name": "stdout",
     "output_type": "stream",
     "text": [
      "[*********************100%***********************]  7 of 7 completed\n"
     ]
    }
   ],
   "source": [
    "#Prepare annual data for sharpe ratio\n",
    "get_stock_data = yf.download(stocks)[\"Adj Close\"]\n",
    "get_stock_data.dropna(inplace=True)\n",
    "data_resampled = get_stock_data.resample(\"Y\").asfreq()\n",
    "data_resampled.dropna(inplace=True)\n",
    "\n",
    "\n",
    "annual_pct_change = data_resampled.pct_change()[1:] \n",
    "weighted_annual_rets = annual_pct_change * portfolio_weight\n",
    "portfolio_annual_rets = weighted_annual_rets.sum(axis=1)\n",
    "\n",
    "#Compute Sharpe Ratio\n",
    "expected_portfolio_return = portfolio_annual_rets.mean()\n",
    "portfolio_std = portfolio_annual_rets.std()\n",
    "risk_free_rate = 0.0471 # 3-Months T-bill current interest\n",
    "\n",
    "\n",
    "sharpe_ratio = (expected_portfolio_return - risk_free_rate) / portfolio_std"
   ]
  },
  {
   "cell_type": "code",
   "execution_count": 22,
   "id": "50910dc0",
   "metadata": {},
   "outputs": [
    {
     "data": {
      "text/plain": [
       "1.1070720013189557"
      ]
     },
     "execution_count": 22,
     "metadata": {},
     "output_type": "execute_result"
    }
   ],
   "source": []
  },
  {
   "cell_type": "code",
   "execution_count": 86,
   "id": "5aca609e",
   "metadata": {},
   "outputs": [
    {
     "name": "stdout",
     "output_type": "stream",
     "text": [
      "[*********************100%***********************]  7 of 7 completed\n"
     ]
    }
   ],
   "source": [
    "#Annualized Volatility spread (Portfilio Volatility - ETF Volatility)\n",
    "dataframe = yf.download(stocks)[\"Adj Close\"]\n",
    "dataframe.dropna(inplace=True)\n",
    "dataframe_resampled = dataframe.resample(\"252D\").asfreq() # Resample every 252 days\n",
    "dataframe_resampled.dropna(inplace=True)"
   ]
  },
  {
   "cell_type": "code",
   "execution_count": 87,
   "id": "aafaf1a3",
   "metadata": {},
   "outputs": [],
   "source": [
    "dataframe_pct_change = dataframe_resampled.pct_change()[1:]"
   ]
  },
  {
   "cell_type": "code",
   "execution_count": 88,
   "id": "1379724d",
   "metadata": {},
   "outputs": [],
   "source": [
    "portfolio_ret_252d = dataframe_pct_change * portfolio_weight\n",
    "final_return_252d = portfolio_ret_252d.sum(axis=1)"
   ]
  },
  {
   "cell_type": "code",
   "execution_count": 89,
   "id": "182689d2",
   "metadata": {},
   "outputs": [
    {
     "data": {
      "text/plain": [
       "0.5831557666671989"
      ]
     },
     "execution_count": 89,
     "metadata": {},
     "output_type": "execute_result"
    }
   ],
   "source": [
    "final_return_252d.std()"
   ]
  },
  {
   "cell_type": "code",
   "execution_count": 90,
   "id": "267dee59",
   "metadata": {},
   "outputs": [
    {
     "name": "stdout",
     "output_type": "stream",
     "text": [
      "[*********************100%***********************]  1 of 1 completed\n"
     ]
    },
    {
     "data": {
      "text/plain": [
       "0.13048282413266848"
      ]
     },
     "execution_count": 90,
     "metadata": {},
     "output_type": "execute_result"
    }
   ],
   "source": [
    "etf_volatility = yf.download(\"SPY\")[\"Adj Close\"]\n",
    "resample_etf_252 = etf_volatility.resample(\"252D\").asfreq()\n",
    "resample_etf_252.pct_change()[1:].std()\n"
   ]
  },
  {
   "cell_type": "code",
   "execution_count": 91,
   "id": "3fd58f38",
   "metadata": {},
   "outputs": [],
   "source": [
    "def get_corr_against_etf(data):\n",
    "    return data.corr().iloc[0, 1]\n",
    "\n",
    "def get_cov_against_etf(data):\n",
    "    return data.corr().iloc[0, 1]\n",
    "\n",
    "def get_tracking_error(data):\n",
    "    data[\"P - B\"] = data[\"portfolio_rets\"] - data[\"daily_etf_rets\"]\n",
    "    return data[\"P - B\"].std()\n",
    "\n",
    "def get_volatility_spread(stock_data, etf):\n",
    "    stock_data_resampled = stock_data.resample(\"252D\").asfreq()\n",
    "    stock_data_resampled.dropna(inplace=True)\n",
    "    stock_data_pct = stock_data_resampled.pct_change()[1:]\n",
    "    portfolio_ret_252d = stock_data_pct * portfolio_weight\n",
    "    final_return_252d = portfolio_ret_252d.sum(axis=1)\n",
    "    portfolio_volatility = final_return_252d.std()\n",
    "    get_etf = yf.download(etf)[\"Adj Close\"].pct_change()[1:]\n",
    "    etf_volatility = get_etf.std()\n",
    "    return portfolio_volatility - etf_volatility"
   ]
  },
  {
   "cell_type": "code",
   "execution_count": 92,
   "id": "dc74a75d",
   "metadata": {},
   "outputs": [
    {
     "name": "stdout",
     "output_type": "stream",
     "text": [
      "[*********************100%***********************]  7 of 7 completed\n",
      "[*********************100%***********************]  1 of 1 completed\n",
      "[*********************100%***********************]  1 of 1 completed\n",
      "[*********************100%***********************]  7 of 7 completed\n",
      "[*********************100%***********************]  1 of 1 completed\n",
      "[*********************100%***********************]  1 of 1 completed\n",
      "[*********************100%***********************]  7 of 7 completed\n",
      "[*********************100%***********************]  1 of 1 completed\n",
      "[*********************100%***********************]  1 of 1 completed\n"
     ]
    }
   ],
   "source": [
    "etf_tickers = [\"SPY\", \"IWM\", \"DIA\"]\n",
    "\n",
    "correlations = []\n",
    "covariances = []\n",
    "sharpe_ratios = [sharpe_ratio]*3\n",
    "tracking_errors = []\n",
    "volatility_spreads = []\n",
    "\n",
    "\n",
    "for ticker in etf_tickers:\n",
    "    # To get correlation of portfolio against ETF we first need to get daily returns of portfolio\n",
    "    stock_data = yf.download(stocks)[\"Adj Close\"]\n",
    "    stock_data.dropna(inplace=True)\n",
    "    \n",
    "    weighted_rets = (portfolio_weight * stock_data) #stock * weight = portfolio_return accross all 7 stocks \n",
    "    portfolio_rets = weighted_rets.sum(axis=1) #https://www.codingfinance.com/post/2018-04-05-portfolio-returns-py/\n",
    "    \n",
    "    \n",
    "    etf = yf.download(ticker, start=\"2010-06-29\")[\"Adj Close\"]\n",
    "    etf_pct_change = etf.pct_change()[1:]\n",
    "    portfolio_rets_df = pd.DataFrame(portfolio_rets) #convert type series to dataframe\n",
    "    portfolio_rets_df[\"daily_etf_rets\"] = etf_pct_change\n",
    "    portfolio_rets_df.columns = [\"portfolio_rets\", \"daily_etf_rets\"]\n",
    "    correlations.append(get_corr_against_etf(portfolio_rets_df))\n",
    "    covariances.append(get_cov_against_etf(portfolio_rets_df))\n",
    "    tracking_errors.append(get_tracking_error(portfolio_rets_df))\n",
    "    volatility_spreads.append(get_volatility_spread(stock_data, ticker))"
   ]
  },
  {
   "cell_type": "code",
   "execution_count": 93,
   "id": "16f705d8",
   "metadata": {},
   "outputs": [],
   "source": [
    "table_two = {\"tickers\": etf_tickers, \"correlation\" : correlations, \"covariances\": covariances, \n",
    "             \"sharpe_ratio\": sharpe_ratios, \"tracking error\": tracking_errors, \n",
    "             \"annualized_volatility_spread\": volatility_spreads}\n",
    "table_two = pd.DataFrame(table_two)"
   ]
  },
  {
   "cell_type": "code",
   "execution_count": 94,
   "id": "920d4ad8",
   "metadata": {},
   "outputs": [
    {
     "data": {
      "text/html": [
       "<div>\n",
       "<style scoped>\n",
       "    .dataframe tbody tr th:only-of-type {\n",
       "        vertical-align: middle;\n",
       "    }\n",
       "\n",
       "    .dataframe tbody tr th {\n",
       "        vertical-align: top;\n",
       "    }\n",
       "\n",
       "    .dataframe thead th {\n",
       "        text-align: right;\n",
       "    }\n",
       "</style>\n",
       "<table border=\"1\" class=\"dataframe\">\n",
       "  <thead>\n",
       "    <tr style=\"text-align: right;\">\n",
       "      <th></th>\n",
       "      <th>tickers</th>\n",
       "      <th>correlation</th>\n",
       "      <th>covariances</th>\n",
       "      <th>sharpe_ratio</th>\n",
       "      <th>tracking error</th>\n",
       "      <th>annualized_volatility_spread</th>\n",
       "    </tr>\n",
       "  </thead>\n",
       "  <tbody>\n",
       "    <tr>\n",
       "      <th>0</th>\n",
       "      <td>SPY</td>\n",
       "      <td>0.002193</td>\n",
       "      <td>0.002193</td>\n",
       "      <td>1.107072</td>\n",
       "      <td>69.373516</td>\n",
       "      <td>0.571240</td>\n",
       "    </tr>\n",
       "    <tr>\n",
       "      <th>1</th>\n",
       "      <td>IWM</td>\n",
       "      <td>-0.003277</td>\n",
       "      <td>-0.003277</td>\n",
       "      <td>1.107072</td>\n",
       "      <td>69.373587</td>\n",
       "      <td>0.567864</td>\n",
       "    </tr>\n",
       "    <tr>\n",
       "      <th>2</th>\n",
       "      <td>DIA</td>\n",
       "      <td>-0.000771</td>\n",
       "      <td>-0.000771</td>\n",
       "      <td>1.107072</td>\n",
       "      <td>69.373549</td>\n",
       "      <td>0.571115</td>\n",
       "    </tr>\n",
       "  </tbody>\n",
       "</table>\n",
       "</div>"
      ],
      "text/plain": [
       "  tickers  correlation  covariances  sharpe_ratio  tracking error  \\\n",
       "0     SPY     0.002193     0.002193      1.107072       69.373516   \n",
       "1     IWM    -0.003277    -0.003277      1.107072       69.373587   \n",
       "2     DIA    -0.000771    -0.000771      1.107072       69.373549   \n",
       "\n",
       "   annualized_volatility_spread  \n",
       "0                      0.571240  \n",
       "1                      0.567864  \n",
       "2                      0.571115  "
      ]
     },
     "execution_count": 94,
     "metadata": {},
     "output_type": "execute_result"
    }
   ],
   "source": [
    "table_two"
   ]
  },
  {
   "cell_type": "code",
   "execution_count": 24,
   "id": "63379e58",
   "metadata": {},
   "outputs": [
    {
     "data": {
      "text/plain": [
       "1.1070720013189557"
      ]
     },
     "execution_count": 24,
     "metadata": {},
     "output_type": "execute_result"
    }
   ],
   "source": []
  },
  {
   "cell_type": "code",
   "execution_count": null,
   "id": "c4b40bc3",
   "metadata": {},
   "outputs": [],
   "source": []
  }
 ],
 "metadata": {
  "kernelspec": {
   "display_name": "Python 3 (ipykernel)",
   "language": "python",
   "name": "python3"
  },
  "language_info": {
   "codemirror_mode": {
    "name": "ipython",
    "version": 3
   },
   "file_extension": ".py",
   "mimetype": "text/x-python",
   "name": "python",
   "nbconvert_exporter": "python",
   "pygments_lexer": "ipython3",
   "version": "3.10.9"
  }
 },
 "nbformat": 4,
 "nbformat_minor": 5
}
